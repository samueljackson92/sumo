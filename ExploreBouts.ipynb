{
 "cells": [
  {
   "cell_type": "markdown",
   "metadata": {},
   "source": [
    "# Elo Rating History"
   ]
  },
  {
   "cell_type": "code",
   "execution_count": 31,
   "metadata": {},
   "outputs": [
    {
     "name": "stdout",
     "output_type": "stream",
     "text": [
      "Warning: Cannot change to a different GUI toolkit: ipympl. Using widget instead.\n"
     ]
    },
    {
     "data": {
      "application/vnd.jupyter.widget-view+json": {
       "model_id": "",
       "version_major": 2,
       "version_minor": 0
      },
      "text/plain": [
       "FigureCanvasNbAgg()"
      ]
     },
     "metadata": {},
     "output_type": "display_data"
    },
    {
     "data": {
      "text/plain": [
       "<matplotlib.legend.Legend at 0x7f79399052b0>"
      ]
     },
     "execution_count": 31,
     "metadata": {},
     "output_type": "execute_result"
    }
   ],
   "source": [
    "%matplotlib ipympl\n",
    "import pandas as pd\n",
    "import matplotlib.patches as mpatches\n",
    "import matplotlib.dates as mdates\n",
    "import matplotlib.pyplot as plt\n",
    "import numpy as np\n",
    "plt.style.use('ggplot')\n",
    "    \n",
    "plt.figure(figsize=(10, 5))\n",
    "ax = plt.subplot()\n",
    "\n",
    "def plot_elo(bout_df, name, ax, **kwargs):\n",
    "    rikishi = bout_df.loc[bout_df.name == name]\n",
    "    rikishi = rikishi.loc[rikishi.date >= pd.datetime(2010, 1, 1)]\n",
    "    rikishi = rikishi.sort_values(axis=0, by='date')\n",
    "    for i, g in rikishi.groupby('tournament'):\n",
    "        ax.plot(g.date, g.elo.values,  marker='', label=g.name.unique()[0], **kwargs)\n",
    "\n",
    "    years = mdates.YearLocator()   # every year\n",
    "    months = mdates.MonthLocator()  # every month\n",
    "    yearsFmt = mdates.DateFormatter('%Y')\n",
    "    \n",
    "    # format the ticks\n",
    "    ax.xaxis.set_major_locator(years)\n",
    "    ax.xaxis.set_major_formatter(yearsFmt)\n",
    "    ax.xaxis.set_minor_locator(months)\n",
    "\n",
    "    ax.set_ylabel(\"Elo Rating\")\n",
    "    ax.set_xlabel(\"Basho\")\n",
    "\n",
    "\n",
    "patches = []\n",
    "ax.set_title('Elo History for Tochinoshin')\n",
    "for name, c in [('Tochinoshin', 'purple')]:\n",
    "    plot_elo(bout_df, name, ax, color=c)\n",
    "    patches.append(mpatches.Patch(color=c, label=name))\n",
    "ax.legend(handles=patches)"
   ]
  },
  {
   "cell_type": "code",
   "execution_count": 348,
   "metadata": {},
   "outputs": [],
   "source": [
    "plt.savefig(\"img/tochinoshin.png\")"
   ]
  },
  {
   "cell_type": "code",
   "execution_count": 294,
   "metadata": {},
   "outputs": [
    {
     "name": "stdout",
     "output_type": "stream",
     "text": [
      "97632 262\n"
     ]
    }
   ],
   "source": [
    "number_of_bouts = bout_df[bout_df.date > pd.datetime(1990, 1, 1)].shape[0]\n",
    "number_of_rikishi = bout_df[bout_df.date > pd.datetime(1990, 1, 1)].name.unique().shape[0]\n",
    "\n",
    "print(number_of_bouts, number_of_rikishi)"
   ]
  },
  {
   "cell_type": "code",
   "execution_count": 317,
   "metadata": {},
   "outputs": [
    {
     "name": "stderr",
     "output_type": "stream",
     "text": [
      "/opt/conda/lib/python3.6/site-packages/ipykernel_launcher.py:12: SettingWithCopyWarning: \n",
      "A value is trying to be set on a copy of a slice from a DataFrame\n",
      "\n",
      "See the caveats in the documentation: http://pandas.pydata.org/pandas-docs/stable/indexing.html#indexing-view-versus-copy\n",
      "  if sys.path[0] == '':\n"
     ]
    },
    {
     "ename": "NameError",
     "evalue": "name 'defaultdict' is not defined",
     "output_type": "error",
     "traceback": [
      "\u001b[0;31m---------------------------------------------------------------------------\u001b[0m",
      "\u001b[0;31mNameError\u001b[0m                                 Traceback (most recent call last)",
      "\u001b[0;32m<ipython-input-317-0442351eb53e>\u001b[0m in \u001b[0;36m<module>\u001b[0;34m()\u001b[0m\n\u001b[1;32m     17\u001b[0m \u001b[0mlast_rating\u001b[0m \u001b[0;34m=\u001b[0m \u001b[0mlast_rating\u001b[0m\u001b[0;34m.\u001b[0m\u001b[0msort_values\u001b[0m\u001b[0;34m(\u001b[0m\u001b[0;34m'elo'\u001b[0m\u001b[0;34m,\u001b[0m \u001b[0mascending\u001b[0m\u001b[0;34m=\u001b[0m\u001b[0;32mFalse\u001b[0m\u001b[0;34m)\u001b[0m\u001b[0;34m\u001b[0m\u001b[0m\n\u001b[1;32m     18\u001b[0m \u001b[0;34m\u001b[0m\u001b[0m\n\u001b[0;32m---> 19\u001b[0;31m \u001b[0mratings\u001b[0m \u001b[0;34m=\u001b[0m \u001b[0mdefaultdict\u001b[0m\u001b[0;34m(\u001b[0m\u001b[0;32mlambda\u001b[0m\u001b[0;34m:\u001b[0m \u001b[0;36m1000\u001b[0m\u001b[0;34m)\u001b[0m\u001b[0;34m\u001b[0m\u001b[0m\n\u001b[0m\u001b[1;32m     20\u001b[0m \u001b[0;32mfor\u001b[0m \u001b[0mrow\u001b[0m \u001b[0;32min\u001b[0m \u001b[0mlast_rating\u001b[0m\u001b[0;34m.\u001b[0m\u001b[0miterrows\u001b[0m\u001b[0;34m(\u001b[0m\u001b[0;34m)\u001b[0m\u001b[0;34m:\u001b[0m\u001b[0;34m\u001b[0m\u001b[0m\n\u001b[1;32m     21\u001b[0m     \u001b[0mratings\u001b[0m\u001b[0;34m[\u001b[0m\u001b[0mrow\u001b[0m\u001b[0;34m[\u001b[0m\u001b[0;36m0\u001b[0m\u001b[0;34m]\u001b[0m\u001b[0;34m]\u001b[0m \u001b[0;34m=\u001b[0m \u001b[0mrow\u001b[0m\u001b[0;34m[\u001b[0m\u001b[0;36m1\u001b[0m\u001b[0;34m]\u001b[0m\u001b[0;34m.\u001b[0m\u001b[0melo\u001b[0m\u001b[0;34m\u001b[0m\u001b[0m\n",
      "\u001b[0;31mNameError\u001b[0m: name 'defaultdict' is not defined"
     ]
    }
   ],
   "source": [
    "import random\n",
    "aki_basho = ['Kakuryu', 'Hakuho', 'Kisenosato', 'Goeido', 'Takayasu', 'Tochinoshin', 'Mitakeumi', \n",
    "              'Ichinojo', 'Tamawashi', 'Takakeisho', 'Ikioi', 'Kaisei', 'Yutakayama', 'Chiyotairyu', \n",
    "              'Shodai', 'Endo', 'Chiyonokuni', 'Abi', 'Myogiryu', 'Asanoyama']\n",
    "\n",
    "aki_basho += ['Kagayaki', 'Onosho', 'Shohozan', 'Tochiozan', 'Takarafuji', 'Kotoshogiku', 'Hokutofuji', 'Daishomaru', \n",
    "             'Aoiyama', 'Daiesho', 'Sadanoumi', 'Kyokutaisei', 'Okinoumi', 'Nishikigi', 'Ryuden', 'Takanoiwa', 'Takanosho', \n",
    "             'Chiyomaru', 'Chiyoshoma', 'Yoshikaze', 'Kotoyuki', 'Ishiura']\n",
    "\n",
    "\n",
    "aki_rikishi_bout_history = bout_df.loc[bout_df.name.isin(aki_basho)]\n",
    "aki_rikishi_bout_history.sort_values('date', inplace=True)\n",
    "\n",
    "last_rating = pd.concat([aki_rikishi_bout_history[aki_rikishi_bout_history.name == name].tail(1).loc[:, ['name', 'elo']]\n",
    "               for name in aki_basho])\n",
    "last_rating = last_rating.set_index('name')\n",
    "last_rating = last_rating.sort_values('elo', ascending=False)\n",
    "\n",
    "ratings = defaultdict(lambda: 1000)\n",
    "for row in last_rating.iterrows():\n",
    "    ratings[row[0]] = row[1].elo\n",
    "    \n",
    "# def generate_opponents(names):\n",
    "#     bouts = {}\n",
    "#     NUM_DAYS = 15\n",
    "#     for name in names:\n",
    "#         opponents = list(filter(lambda n: n != name, names))\n",
    "#         bouts[name] = np.random.choice(opponents, replace=False, size=NUM_DAYS)\n",
    "#     return bouts\n",
    "\n",
    "def pop_random(lst):\n",
    "    idx = random.randrange(0, len(lst))\n",
    "    return lst.pop(idx)\n",
    "\n",
    "def generate_random_bouts(all_names):\n",
    "    NUM_DAYS = 15\n",
    "    bouts = []\n",
    "\n",
    "    history = defaultdict(list)\n",
    "    \n",
    "    for day in range(NUM_DAYS):\n",
    "        day_names = all_names.copy()\n",
    "        while len(day_names) > 0:\n",
    "            name = day_names.pop()\n",
    "            \n",
    "            opponent = np.random.choice(list(filter(lambda x: x not in history[x] and x != name, day_names)), size=1)[0]\n",
    "            day_names.remove(opponent)\n",
    "            \n",
    "            bout = name, opponent\n",
    "            bouts.append(bout)\n",
    "            \n",
    "            history[name].append(opponent)\n",
    "            history[opponent].append(name)\n",
    "      \n",
    "    return bouts\n",
    "\n",
    "def simulate_bouts(bouts, ratings):\n",
    "    score_dist = defaultdict(int)\n",
    "    for name, opponent in bouts:\n",
    "        current_rank = ratings[name]\n",
    "        opponent_rank = ratings[opponent]\n",
    "        p = elo.expected_outcome(current_rank, opponent_rank)\n",
    "        outcome = 1 if np.random.random() < p else 0\n",
    "        if outcome == 1:\n",
    "            score_dist[name] += 1\n",
    "            score_dist[opponent] += 0\n",
    "        else:\n",
    "            score_dist[opponent] += 1\n",
    "            score_dist[name] += 0\n",
    "\n",
    "    return score_dist\n",
    "    \n",
    "\n",
    "def simulate_tournament(names, ratings, samples=100000):\n",
    "    score_dists = []\n",
    "    for i in range(samples):\n",
    "#         bouts = generate_opponents(names)\n",
    "#         score_dist = simulate_single_tournament(bouts, ratings)\n",
    "        bouts = generate_random_bouts(names)\n",
    "        score_dist = simulate_bouts(bouts, ratings)\n",
    "        score_dists.append(pd.Series(score_dist))\n",
    "        if i % 1000 == 0:\n",
    "            print(\"Simulating tournament: {}\".format(i))\n",
    "    return sum(score_dists) / samples\n",
    "\n",
    "outcome = simulate_tournament(aki_basho, ratings, samples=1000)\n",
    "outcome"
   ]
  },
  {
   "cell_type": "code",
   "execution_count": 363,
   "metadata": {},
   "outputs": [
    {
     "data": {
      "text/html": [
       "<div>\n",
       "<style scoped>\n",
       "    .dataframe tbody tr th:only-of-type {\n",
       "        vertical-align: middle;\n",
       "    }\n",
       "\n",
       "    .dataframe tbody tr th {\n",
       "        vertical-align: top;\n",
       "    }\n",
       "\n",
       "    .dataframe thead th {\n",
       "        text-align: right;\n",
       "    }\n",
       "</style>\n",
       "<table border=\"1\" class=\"dataframe\">\n",
       "  <thead>\n",
       "    <tr style=\"text-align: right;\">\n",
       "      <th></th>\n",
       "      <th>rank</th>\n",
       "      <th>rank_coarse</th>\n",
       "    </tr>\n",
       "    <tr>\n",
       "      <th>name</th>\n",
       "      <th></th>\n",
       "      <th></th>\n",
       "    </tr>\n",
       "  </thead>\n",
       "  <tbody>\n",
       "    <tr>\n",
       "      <th>Kakuryu</th>\n",
       "      <td>Y</td>\n",
       "      <td>1</td>\n",
       "    </tr>\n",
       "    <tr>\n",
       "      <th>Mitakeumi</th>\n",
       "      <td>S</td>\n",
       "      <td>2</td>\n",
       "    </tr>\n",
       "    <tr>\n",
       "      <th>Ikioi</th>\n",
       "      <td>M1</td>\n",
       "      <td>3</td>\n",
       "    </tr>\n",
       "    <tr>\n",
       "      <th>Onosho</th>\n",
       "      <td>M6</td>\n",
       "      <td>4</td>\n",
       "    </tr>\n",
       "    <tr>\n",
       "      <th>Kyokutaisei</th>\n",
       "      <td>M11</td>\n",
       "      <td>5</td>\n",
       "    </tr>\n",
       "  </tbody>\n",
       "</table>\n",
       "</div>"
      ],
      "text/plain": [
       "            rank  rank_coarse\n",
       "name                         \n",
       "Kakuryu        Y            1\n",
       "Mitakeumi      S            2\n",
       "Ikioi         M1            3\n",
       "Onosho        M6            4\n",
       "Kyokutaisei  M11            5"
      ]
     },
     "execution_count": 363,
     "metadata": {},
     "output_type": "execute_result"
    }
   ],
   "source": [
    "import re\n",
    "rank_regex = re.compile(r'([A-Z])([0-9]*)')\n",
    "\n",
    "aki_basho = ['Kakuryu', 'Hakuho', 'Kisenosato', 'Goeido', 'Takayasu', 'Tochinoshin', 'Mitakeumi', \n",
    "              'Ichinojo', 'Tamawashi', 'Takakeisho', 'Ikioi', 'Kaisei', 'Yutakayama', 'Chiyotairyu', \n",
    "              'Shodai', 'Endo', 'Chiyonokuni', 'Abi', 'Myogiryu', 'Asanoyama']\n",
    "\n",
    "aki_basho += ['Kagayaki', 'Onosho', 'Shohozan', 'Tochiozan', 'Takarafuji', 'Kotoshogiku', 'Hokutofuji', 'Daishomaru', \n",
    "             'Aoiyama', 'Daiesho', 'Sadanoumi', 'Kyokutaisei', 'Okinoumi', 'Nishikigi', 'Ryuden', 'Takanoiwa', 'Takanosho', \n",
    "             'Chiyomaru', 'Chiyoshoma', 'Yoshikaze', 'Kotoyuki', 'Ishiura']\n",
    "\n",
    "aki_ranks = ['Y', 'Y', 'Y', 'O', 'O', 'O', 'S', 'S', 'K', 'K', 'M1', 'M1', 'M2', 'M2', 'M3', 'M3', 'M4', 'M4', 'M4', 'M5',\n",
    "             'M5', 'M6', 'M6', 'M7', 'M7', 'M8', 'M8', 'M9', 'M9', 'M10', 'M10', 'M11', 'M11', 'M12', 'M13', 'M13', 'M14',\n",
    "             'M14', 'M15', 'M15', 'M16', 'M16']\n",
    "\n",
    "def parse_rank_coarse(rank):\n",
    "    matches = re.match(rank_regex, rank)\n",
    "    g = matches.groups()\n",
    "    if g[0] in ['Y', 'O', 'K', 'S']:\n",
    "        if g[0] == 'Y':\n",
    "            return 1\n",
    "        elif g[0] == 'O':\n",
    "            return 1\n",
    "        elif g[0] == 'S':\n",
    "            return 2\n",
    "        elif g[0] == 'K':\n",
    "            return 2\n",
    "    elif g[0] == 'M' and g[1] is not None:\n",
    "        if 0 < int(g[1]) <= 5:\n",
    "            return 3\n",
    "        elif 5 < int(g[1]) <= 10:\n",
    "            return 4\n",
    "        elif 10 < int(g[1]) <= 18:\n",
    "            return 5\n",
    "    else:\n",
    "        return 6\n",
    "    \n",
    "banzuke = pd.DataFrame(list(zip(aki_basho, aki_ranks)), columns=['name', 'rank'])\n",
    "banzuke['rank_coarse'] = banzuke['rank'].apply(parse_rank_coarse)\n",
    "banzuke = banzuke.set_index('name')\n",
    "# banzuke['predicted_wins'] = outcome\n",
    "# banzuke = banzuke.sort_values(['rank_coarse', 'predicted_wins'], ascending=[True, False])\n",
    "# banzuke.predicted_wins = banzuke.predicted_wins.round(2)\n",
    "\n",
    "# banzuke['elo'] = ratings.values()\n",
    "# banzuke.elo = banzuke.elo.round(2)\n",
    "banzuke.groupby('rank_coarse').head(1)\n",
    "# banzuke\n",
    "# print(banzuke[['rank', 'elo', 'predicted_wins']].to_csv())\n",
    "# outcome.sort_values(ascending=False)"
   ]
  },
  {
   "cell_type": "code",
   "execution_count": 32,
   "metadata": {},
   "outputs": [
    {
     "data": {
      "application/vnd.jupyter.widget-view+json": {
       "model_id": "",
       "version_major": 2,
       "version_minor": 0
      },
      "text/plain": [
       "FigureCanvasNbAgg()"
      ]
     },
     "metadata": {},
     "output_type": "display_data"
    },
    {
     "data": {
      "text/plain": [
       "Text(0.5,1,'Elo by Rank')"
      ]
     },
     "execution_count": 32,
     "metadata": {},
     "output_type": "execute_result"
    }
   ],
   "source": [
    "plt.figure(figsize=(10, 10))\n",
    "ax = plt.subplot()\n",
    "    \n",
    "def plot_by_rank(df, name, ax):\n",
    "    labels = ['Y', 'O', 'S', 'K', 'M1', 'M2', 'M3']\n",
    "    gs = [g[name] for i, g in df.groupby('rank_ordered')]\n",
    "    ax.hist(gs, density=True, label=labels)\n",
    "    ax.legend()\n",
    "    return ax\n",
    "    \n",
    "plot_by_rank(bout_df, 'elo', ax)\n",
    "ax.set_title('Elo by Rank')"
   ]
  },
  {
   "cell_type": "code",
   "execution_count": 60,
   "metadata": {},
   "outputs": [
    {
     "name": "stderr",
     "output_type": "stream",
     "text": [
      "/opt/conda/lib/python3.6/site-packages/matplotlib/pyplot.py:522: RuntimeWarning: More than 20 figures have been opened. Figures created through the pyplot interface (`matplotlib.pyplot.figure`) are retained until explicitly closed and may consume too much memory. (To control this warning, see the rcParam `figure.max_open_warning`).\n",
      "  max_open_warning, RuntimeWarning)\n"
     ]
    },
    {
     "data": {
      "application/vnd.jupyter.widget-view+json": {
       "model_id": "",
       "version_major": 2,
       "version_minor": 0
      },
      "text/plain": [
       "FigureCanvasNbAgg()"
      ]
     },
     "metadata": {},
     "output_type": "display_data"
    },
    {
     "data": {
      "text/plain": [
       "Text(0,0.5,'wins')"
      ]
     },
     "execution_count": 60,
     "metadata": {},
     "output_type": "execute_result"
    }
   ],
   "source": [
    "plt.figure(figsize=(10, 10))\n",
    "ax = plt.subplot()\n",
    "\n",
    "def violinplot_by_rank(df, name, ax):\n",
    "    data = np.array([g[name].values for i, g in df.groupby('wins')])\n",
    "\n",
    "    ax.violinplot(\n",
    "            data, showmeans=True, showmedians=True,\n",
    "            showextrema=True, vert=False)\n",
    "    labels = ['Y', 'O', 'S', 'K', 'M1', 'M2', 'M3']\n",
    "    labels = np.arange(len(data))\n",
    "    ax.set_yticks(np.arange(1, len(labels)+1))\n",
    "    ax.set_yticklabels(labels)\n",
    "\n",
    "violinplot_by_rank(banzuke_df, 'elo', ax)\n",
    "ax.set_title(\"Wins by Rank\")\n",
    "ax.set_xlabel('elo')\n",
    "ax.set_ylabel('wins')"
   ]
  },
  {
   "cell_type": "code",
   "execution_count": 288,
   "metadata": {},
   "outputs": [
    {
     "data": {
      "application/vnd.jupyter.widget-view+json": {
       "model_id": "ded7bdaef1e14c329820ada898acaf54",
       "version_major": 2,
       "version_minor": 0
      },
      "text/plain": [
       "FigureCanvasNbAgg()"
      ]
     },
     "metadata": {},
     "output_type": "display_data"
    },
    {
     "data": {
      "text/plain": [
       "<matplotlib.collections.PathCollection at 0x7f79069114a8>"
      ]
     },
     "execution_count": 288,
     "metadata": {},
     "output_type": "execute_result"
    }
   ],
   "source": [
    "df = banzuke_df.copy()\n",
    "df = df.loc[df.name == 'Akebono']\n",
    "plt.figure()\n",
    "plt.scatter(df['elo'], df['wins'], c=df['rank_ordered'])"
   ]
  },
  {
   "cell_type": "code",
   "execution_count": 284,
   "metadata": {},
   "outputs": [],
   "source": [
    "from sklearn.preprocessing import StandardScaler, MinMaxScaler\n",
    "from sklearn.model_selection import train_test_split\n",
    "df = banzuke_df.copy()\n",
    "df = df.loc[df.absent == 0]\n",
    "df['elo'] = MinMaxScaler().fit_transform(np.atleast_2d(df['elo'].values).T)\n",
    "df.rank_ordered = df.rank_ordered - 1\n",
    "# df['wins'] = MinMaxScaler().f it_transform(np.atleast_2d(df['wins'].values).T)\n",
    "ranks = df.rank_ordered.unique() \n",
    "num_ranks = len(ranks)\n",
    "\n",
    "\n",
    "X_train, X_test, y_train, y_test = train_test_split(df.drop('wins', axis=1), df['wins'])\n",
    "rank_index = X_train['rank_ordered']\n",
    "\n",
    "df_test = X_test\n",
    "df_test['wins'] = y_test\n",
    "\n",
    "df_train = X_train\n",
    "df_train['wins'] = y_train"
   ]
  },
  {
   "cell_type": "code",
   "execution_count": 285,
   "metadata": {},
   "outputs": [
    {
     "name": "stderr",
     "output_type": "stream",
     "text": [
      "INFO (theano.gof.compilelock): Refreshing lock /home/jovyan/.theano/compiledir_Linux-4.9-linuxkit-aufs-x86_64-with-debian-buster-sid-x86_64-3.6.3-64/lock_dir/lock\n",
      "Auto-assigning NUTS sampler...\n",
      "Initializing NUTS using jitter+adapt_diag...\n",
      "Multiprocess sampling (2 chains in 2 jobs)\n",
      "NUTS: [b, a]\n",
      "Sampling 2 chains: 100%|██████████| 2000/2000 [01:16<00:00, 26.27draws/s]\n"
     ]
    },
    {
     "data": {
      "application/vnd.jupyter.widget-view+json": {
       "model_id": "",
       "version_major": 2,
       "version_minor": 0
      },
      "text/plain": [
       "FigureCanvasNbAgg()"
      ]
     },
     "metadata": {},
     "output_type": "display_data"
    }
   ],
   "source": [
    "import pymc3 as pm\n",
    "\n",
    "\n",
    "with pm.Model() as mdl_ols:\n",
    "\n",
    "    ## Define weakly informative Normal priors to give Ridge regression\n",
    "    b0 = pm.Normal('a', mu=5, sd=1, shape=num_ranks)\n",
    "    b1 = pm.Normal('b', mu=0, sd=1, shape=num_ranks)\n",
    "\n",
    "    ## Define linear model\n",
    "    yest = b0[rank_index] + b1[rank_index] * X_train['elo']\n",
    "\n",
    "    ## Define Normal likelihood\n",
    "    likelihood = pm.StudentT('likelihood', nu=5, mu=yest, sd=1, observed=y_train)\n",
    "    \n",
    "with mdl_ols:\n",
    "    ## take samples\n",
    "    traces_ols = pm.sample()\n",
    "    \n",
    "plt.figure()\n",
    "_ = pm.traceplot(traces_ols, figsize=(12, len(traces_ols.varnames)*1.5),\n",
    "                lines={k: v['mean'] for k, v in pm.summary(traces_ols[-1000:]).iterrows()})"
   ]
  },
  {
   "cell_type": "code",
   "execution_count": 286,
   "metadata": {},
   "outputs": [
    {
     "data": {
      "application/vnd.jupyter.widget-view+json": {
       "model_id": "f7e057c435a4400dbce293b4e64aa567",
       "version_major": 2,
       "version_minor": 0
      },
      "text/plain": [
       "FigureCanvasNbAgg()"
      ]
     },
     "metadata": {},
     "output_type": "display_data"
    },
    {
     "name": "stdout",
     "output_type": "stream",
     "text": [
      "Mean squared error for rank 0 (Y): 2.52\n",
      "Mean squared error for rank 1 (O): 3.31\n",
      "Mean squared error for rank 2 (S): 4.66\n",
      "Mean squared error for rank 3 (K): 5.34\n",
      "Mean squared error for rank 4 (M3): 5.33\n",
      "Mean squared error for rank 5 (M6): 4.09\n",
      "Mean squared error for rank 6 (M16): 4.58\n",
      "Average MSE: 4.26\n"
     ]
    }
   ],
   "source": [
    "from sklearn.metrics import mean_squared_error\n",
    "\n",
    "plt.close('all')\n",
    "\n",
    "def _model(x, c_index):\n",
    "    return traces_ols['a'][samples_greater_than:, c_index].mean() + traces_ols['b'][samples_greater_than:, c_index].mean() * x\n",
    "        \n",
    "def mse_summary(df):\n",
    "    total_mse = 0\n",
    "    for i, g in df.groupby('rank_ordered'):\n",
    "        rank_name = g['rank'].values[0]\n",
    "        c_index = g.rank_ordered.values[0]\n",
    "        y_hat = model(g.elo, c_index)\n",
    "        y = g.wins\n",
    "\n",
    "        mse = mean_squared_error(y, y_hat)\n",
    "        total_mse += mse\n",
    "        print(\"Mean squared error for rank {} ({}): {:.2f}\".format(c_index, rank_name, mse))\n",
    "\n",
    "    total_mse /= len(ranks)\n",
    "    print(\"Average MSE: {:.2f}\".format(total_mse))\n",
    "    \n",
    "def plot_model(df):\n",
    "    fig, axis = plt.subplots(num_ranks, 1, figsize=(10, 20), sharey=True, sharex=True)\n",
    "    axis = axis.ravel()\n",
    "\n",
    "    samples_greater_than = 500\n",
    "\n",
    "    for i, c in enumerate(ranks):\n",
    "        c_data = df[df.rank_ordered == c]\n",
    "        c_data = c_data.reset_index(drop = True)\n",
    "        c_index = c\n",
    "\n",
    "        xvals = np.linspace(0, 1)\n",
    "\n",
    "        for a_val, b_val in zip(traces_ols['a'][samples_greater_than:, c_index], traces_ols['b'][samples_greater_than:, c_index]):\n",
    "            axis[i].plot(xvals, a_val + b_val * xvals, 'b', alpha=.1)\n",
    "\n",
    "        axis[i].scatter(c_data.elo, c_data.wins,\n",
    "                        alpha=1, color='k', marker='.', s=80, label='original data')\n",
    "\n",
    "        axis[i].plot(xvals, _model(xvals, c_index), 'b', alpha=1, lw=2., color='r', label='Mean')\n",
    "\n",
    "        axis[i].set_xticks([0,1])\n",
    "\n",
    "        axis[i].set_ylim(0, 17)\n",
    "        axis[i].set_title(c)\n",
    "        axis[i].set_xlabel('elo')\n",
    "\n",
    "plot_model(df_train)\n",
    "mse_summary(df_test)"
   ]
  },
  {
   "cell_type": "code",
   "execution_count": 368,
   "metadata": {},
   "outputs": [
    {
     "ename": "KeyError",
     "evalue": "'rank'",
     "output_type": "error",
     "traceback": [
      "\u001b[0;31m---------------------------------------------------------------------------\u001b[0m",
      "\u001b[0;31mKeyError\u001b[0m                                  Traceback (most recent call last)",
      "\u001b[0;32m<ipython-input-368-bd8c166e2f52>\u001b[0m in \u001b[0;36m<module>\u001b[0;34m()\u001b[0m\n\u001b[1;32m     15\u001b[0m \u001b[0mscores\u001b[0m \u001b[0;34m=\u001b[0m \u001b[0mpd\u001b[0m\u001b[0;34m.\u001b[0m\u001b[0mDataFrame\u001b[0m\u001b[0;34m(\u001b[0m\u001b[0m_model\u001b[0m\u001b[0;34m(\u001b[0m\u001b[0mbanzuke\u001b[0m\u001b[0;34m.\u001b[0m\u001b[0mlast_rating\u001b[0m\u001b[0;34m,\u001b[0m \u001b[0mbanzuke\u001b[0m\u001b[0;34m.\u001b[0m\u001b[0mrank_ordered\u001b[0m\u001b[0;34m)\u001b[0m\u001b[0;34m)\u001b[0m\u001b[0;34m\u001b[0m\u001b[0m\n\u001b[1;32m     16\u001b[0m \u001b[0;34m\u001b[0m\u001b[0m\n\u001b[0;32m---> 17\u001b[0;31m \u001b[0mscores\u001b[0m \u001b[0;34m=\u001b[0m \u001b[0mscores\u001b[0m\u001b[0;34m.\u001b[0m\u001b[0msort_values\u001b[0m\u001b[0;34m(\u001b[0m\u001b[0;34m[\u001b[0m\u001b[0;34m'rank'\u001b[0m\u001b[0;34m,\u001b[0m \u001b[0;34m'last_rating'\u001b[0m\u001b[0;34m]\u001b[0m\u001b[0;34m,\u001b[0m \u001b[0mascending\u001b[0m\u001b[0;34m=\u001b[0m\u001b[0;34m[\u001b[0m\u001b[0;32mTrue\u001b[0m\u001b[0;34m,\u001b[0m \u001b[0;32mFalse\u001b[0m\u001b[0;34m]\u001b[0m\u001b[0;34m)\u001b[0m\u001b[0;34m\u001b[0m\u001b[0m\n\u001b[0m\u001b[1;32m     18\u001b[0m \u001b[0mscores\u001b[0m\u001b[0;34m.\u001b[0m\u001b[0mlast_rating\u001b[0m \u001b[0;34m=\u001b[0m \u001b[0mscores\u001b[0m\u001b[0;34m.\u001b[0m\u001b[0mlast_rating\u001b[0m\u001b[0;34m.\u001b[0m\u001b[0mround\u001b[0m\u001b[0;34m(\u001b[0m\u001b[0;36m2\u001b[0m\u001b[0;34m)\u001b[0m\u001b[0;34m\u001b[0m\u001b[0m\n\u001b[1;32m     19\u001b[0m \u001b[0mscores\u001b[0m\u001b[0;34m\u001b[0m\u001b[0m\n",
      "\u001b[0;32m/opt/conda/lib/python3.6/site-packages/pandas/core/frame.py\u001b[0m in \u001b[0;36msort_values\u001b[0;34m(self, by, axis, ascending, inplace, kind, na_position)\u001b[0m\n\u001b[1;32m   4409\u001b[0m             \u001b[0;32mfor\u001b[0m \u001b[0mx\u001b[0m \u001b[0;32min\u001b[0m \u001b[0mby\u001b[0m\u001b[0;34m:\u001b[0m\u001b[0;34m\u001b[0m\u001b[0m\n\u001b[1;32m   4410\u001b[0m                 k = self._get_label_or_level_values(x, axis=axis,\n\u001b[0;32m-> 4411\u001b[0;31m                                                     stacklevel=stacklevel)\n\u001b[0m\u001b[1;32m   4412\u001b[0m                 \u001b[0mkeys\u001b[0m\u001b[0;34m.\u001b[0m\u001b[0mappend\u001b[0m\u001b[0;34m(\u001b[0m\u001b[0mk\u001b[0m\u001b[0;34m)\u001b[0m\u001b[0;34m\u001b[0m\u001b[0m\n\u001b[1;32m   4413\u001b[0m             indexer = lexsort_indexer(keys, orders=ascending,\n",
      "\u001b[0;32m/opt/conda/lib/python3.6/site-packages/pandas/core/generic.py\u001b[0m in \u001b[0;36m_get_label_or_level_values\u001b[0;34m(self, key, axis, stacklevel)\u001b[0m\n\u001b[1;32m   1380\u001b[0m             \u001b[0mvalues\u001b[0m \u001b[0;34m=\u001b[0m \u001b[0mself\u001b[0m\u001b[0;34m.\u001b[0m\u001b[0maxes\u001b[0m\u001b[0;34m[\u001b[0m\u001b[0maxis\u001b[0m\u001b[0;34m]\u001b[0m\u001b[0;34m.\u001b[0m\u001b[0mget_level_values\u001b[0m\u001b[0;34m(\u001b[0m\u001b[0mkey\u001b[0m\u001b[0;34m)\u001b[0m\u001b[0;34m.\u001b[0m\u001b[0m_values\u001b[0m\u001b[0;34m\u001b[0m\u001b[0m\n\u001b[1;32m   1381\u001b[0m         \u001b[0;32melse\u001b[0m\u001b[0;34m:\u001b[0m\u001b[0;34m\u001b[0m\u001b[0m\n\u001b[0;32m-> 1382\u001b[0;31m             \u001b[0;32mraise\u001b[0m \u001b[0mKeyError\u001b[0m\u001b[0;34m(\u001b[0m\u001b[0mkey\u001b[0m\u001b[0;34m)\u001b[0m\u001b[0;34m\u001b[0m\u001b[0m\n\u001b[0m\u001b[1;32m   1383\u001b[0m \u001b[0;34m\u001b[0m\u001b[0m\n\u001b[1;32m   1384\u001b[0m         \u001b[0;31m# Check for duplicates\u001b[0m\u001b[0;34m\u001b[0m\u001b[0;34m\u001b[0m\u001b[0m\n",
      "\u001b[0;31mKeyError\u001b[0m: 'rank'"
     ]
    }
   ],
   "source": [
    "def _model(x, c_index):\n",
    "    return traces_ols['a'][samples_greater_than:, c_index].mean() + traces_ols['b'][samples_greater_than:, c_index].mean() * x\n",
    "\n",
    "last_rating = pd.concat([aki_rikishi_bout_history[aki_rikishi_bout_history.name == name].tail(1).loc[:, ['name', 'elo']]\n",
    "               for name in aki_basho])\n",
    "last_rating = last_rating.set_index('name')\n",
    "last_rating = last_rating.sort_values('elo', ascending=False)\n",
    "\n",
    "    \n",
    "banzuke['last_rating'] = last_rating\n",
    "banzuke.last_rating = banzuke.last_rating.fillna(1000)\n",
    "banzuke['last_rating'] = MinMaxScaler().fit_transform(np.atleast_2d(banzuke['last_rating'].values).T)\n",
    "banzuke['rank_ordered'] = banzuke['rank_coarse']\n",
    "\n",
    "scores = pd.DataFrame(_model(banzuke.last_rating, banzuke.rank_ordered))\n",
    "\n",
    "scores = scores.sort_values(['rank', 'last_rating'], ascending=[True, False])\n",
    "scores.last_rating = scores.last_rating.round(2)\n",
    "scores\n",
    "\n",
    "# scores.groupby('rank_ordered').head(1)"
   ]
  },
  {
   "cell_type": "code",
   "execution_count": 142,
   "metadata": {},
   "outputs": [
    {
     "data": {
      "text/html": [
       "<div>\n",
       "<style scoped>\n",
       "    .dataframe tbody tr th:only-of-type {\n",
       "        vertical-align: middle;\n",
       "    }\n",
       "\n",
       "    .dataframe tbody tr th {\n",
       "        vertical-align: top;\n",
       "    }\n",
       "\n",
       "    .dataframe thead th {\n",
       "        text-align: right;\n",
       "    }\n",
       "</style>\n",
       "<table border=\"1\" class=\"dataframe\">\n",
       "  <thead>\n",
       "    <tr style=\"text-align: right;\">\n",
       "      <th></th>\n",
       "      <th>count</th>\n",
       "      <th>mean</th>\n",
       "      <th>std</th>\n",
       "      <th>min</th>\n",
       "      <th>25%</th>\n",
       "      <th>50%</th>\n",
       "      <th>75%</th>\n",
       "      <th>max</th>\n",
       "    </tr>\n",
       "  </thead>\n",
       "  <tbody>\n",
       "    <tr>\n",
       "      <th>Y</th>\n",
       "      <td>4682.0</td>\n",
       "      <td>1117.137216</td>\n",
       "      <td>35.852449</td>\n",
       "      <td>989.762415</td>\n",
       "      <td>1098.344392</td>\n",
       "      <td>1114.618128</td>\n",
       "      <td>1141.906696</td>\n",
       "      <td>1212.418483</td>\n",
       "    </tr>\n",
       "    <tr>\n",
       "      <th>O</th>\n",
       "      <td>8852.0</td>\n",
       "      <td>1075.574999</td>\n",
       "      <td>34.806938</td>\n",
       "      <td>959.728177</td>\n",
       "      <td>1052.024849</td>\n",
       "      <td>1076.809657</td>\n",
       "      <td>1102.404578</td>\n",
       "      <td>1195.255526</td>\n",
       "    </tr>\n",
       "    <tr>\n",
       "      <th>S</th>\n",
       "      <td>5365.0</td>\n",
       "      <td>1057.801734</td>\n",
       "      <td>33.567750</td>\n",
       "      <td>944.703022</td>\n",
       "      <td>1035.450537</td>\n",
       "      <td>1057.593626</td>\n",
       "      <td>1078.698004</td>\n",
       "      <td>1158.870030</td>\n",
       "    </tr>\n",
       "    <tr>\n",
       "      <th>K</th>\n",
       "      <td>5012.0</td>\n",
       "      <td>1032.489069</td>\n",
       "      <td>27.420801</td>\n",
       "      <td>934.253641</td>\n",
       "      <td>1014.649371</td>\n",
       "      <td>1033.443128</td>\n",
       "      <td>1049.875085</td>\n",
       "      <td>1134.842350</td>\n",
       "    </tr>\n",
       "    <tr>\n",
       "      <th>M1</th>\n",
       "      <td>23620.0</td>\n",
       "      <td>1005.826466</td>\n",
       "      <td>28.271118</td>\n",
       "      <td>892.284864</td>\n",
       "      <td>987.040662</td>\n",
       "      <td>1005.240230</td>\n",
       "      <td>1024.112259</td>\n",
       "      <td>1121.397508</td>\n",
       "    </tr>\n",
       "    <tr>\n",
       "      <th>M2</th>\n",
       "      <td>23683.0</td>\n",
       "      <td>987.956176</td>\n",
       "      <td>25.661609</td>\n",
       "      <td>884.569185</td>\n",
       "      <td>970.683161</td>\n",
       "      <td>987.172193</td>\n",
       "      <td>1004.249061</td>\n",
       "      <td>1105.319571</td>\n",
       "    </tr>\n",
       "    <tr>\n",
       "      <th>M3</th>\n",
       "      <td>24148.0</td>\n",
       "      <td>977.547762</td>\n",
       "      <td>26.937160</td>\n",
       "      <td>863.928551</td>\n",
       "      <td>960.429834</td>\n",
       "      <td>977.992731</td>\n",
       "      <td>995.165397</td>\n",
       "      <td>1085.404247</td>\n",
       "    </tr>\n",
       "  </tbody>\n",
       "</table>\n",
       "</div>"
      ],
      "text/plain": [
       "      count         mean        std         min          25%          50%  \\\n",
       "Y    4682.0  1117.137216  35.852449  989.762415  1098.344392  1114.618128   \n",
       "O    8852.0  1075.574999  34.806938  959.728177  1052.024849  1076.809657   \n",
       "S    5365.0  1057.801734  33.567750  944.703022  1035.450537  1057.593626   \n",
       "K    5012.0  1032.489069  27.420801  934.253641  1014.649371  1033.443128   \n",
       "M1  23620.0  1005.826466  28.271118  892.284864   987.040662  1005.240230   \n",
       "M2  23683.0   987.956176  25.661609  884.569185   970.683161   987.172193   \n",
       "M3  24148.0   977.547762  26.937160  863.928551   960.429834   977.992731   \n",
       "\n",
       "            75%          max  \n",
       "Y   1141.906696  1212.418483  \n",
       "O   1102.404578  1195.255526  \n",
       "S   1078.698004  1158.870030  \n",
       "K   1049.875085  1134.842350  \n",
       "M1  1024.112259  1121.397508  \n",
       "M2  1004.249061  1105.319571  \n",
       "M3   995.165397  1085.404247  "
      ]
     },
     "execution_count": 142,
     "metadata": {},
     "output_type": "execute_result"
    }
   ],
   "source": [
    "elo_dist = bout_df.groupby('rank_ordered').elo.describe()\n",
    "elo_dist.index = labels\n",
    "elo_dist"
   ]
  },
  {
   "cell_type": "code",
   "execution_count": 35,
   "metadata": {},
   "outputs": [
    {
     "data": {
      "text/html": [
       "<div>\n",
       "<style scoped>\n",
       "    .dataframe tbody tr th:only-of-type {\n",
       "        vertical-align: middle;\n",
       "    }\n",
       "\n",
       "    .dataframe tbody tr th {\n",
       "        vertical-align: top;\n",
       "    }\n",
       "\n",
       "    .dataframe thead th {\n",
       "        text-align: right;\n",
       "    }\n",
       "</style>\n",
       "<table border=\"1\" class=\"dataframe\">\n",
       "  <thead>\n",
       "    <tr style=\"text-align: right;\">\n",
       "      <th></th>\n",
       "      <th>rank</th>\n",
       "      <th>rank_debut</th>\n",
       "      <th>score</th>\n",
       "      <th>name</th>\n",
       "      <th>rikishi_id</th>\n",
       "      <th>tournament</th>\n",
       "      <th>height</th>\n",
       "      <th>weight</th>\n",
       "      <th>kanto</th>\n",
       "      <th>shukun</th>\n",
       "      <th>...</th>\n",
       "      <th>career_losses</th>\n",
       "      <th>career_wins</th>\n",
       "      <th>last_absent</th>\n",
       "      <th>last_losses</th>\n",
       "      <th>last_wins</th>\n",
       "      <th>total_exp</th>\n",
       "      <th>win_per_bout</th>\n",
       "      <th>day</th>\n",
       "      <th>elo</th>\n",
       "      <th>elo_likelihood</th>\n",
       "    </tr>\n",
       "  </thead>\n",
       "  <tbody>\n",
       "    <tr>\n",
       "      <th>0</th>\n",
       "      <td>M14</td>\n",
       "      <td>1.0</td>\n",
       "      <td>9-6</td>\n",
       "      <td>Akebono</td>\n",
       "      <td>1</td>\n",
       "      <td>199009</td>\n",
       "      <td>204.0</td>\n",
       "      <td>185.0</td>\n",
       "      <td>False</td>\n",
       "      <td>False</td>\n",
       "      <td>...</td>\n",
       "      <td>0</td>\n",
       "      <td>0</td>\n",
       "      <td>0</td>\n",
       "      <td>0</td>\n",
       "      <td>0</td>\n",
       "      <td>0</td>\n",
       "      <td>0.000000</td>\n",
       "      <td>1</td>\n",
       "      <td>1000.000000</td>\n",
       "      <td>0.581934</td>\n",
       "    </tr>\n",
       "    <tr>\n",
       "      <th>1</th>\n",
       "      <td>M7</td>\n",
       "      <td>0.0</td>\n",
       "      <td>9-6</td>\n",
       "      <td>Akebono</td>\n",
       "      <td>1</td>\n",
       "      <td>199011</td>\n",
       "      <td>204.0</td>\n",
       "      <td>185.0</td>\n",
       "      <td>True</td>\n",
       "      <td>False</td>\n",
       "      <td>...</td>\n",
       "      <td>6</td>\n",
       "      <td>9</td>\n",
       "      <td>0</td>\n",
       "      <td>6</td>\n",
       "      <td>9</td>\n",
       "      <td>15</td>\n",
       "      <td>0.600000</td>\n",
       "      <td>1</td>\n",
       "      <td>1013.908066</td>\n",
       "      <td>0.579074</td>\n",
       "    </tr>\n",
       "    <tr>\n",
       "      <th>2</th>\n",
       "      <td>M1</td>\n",
       "      <td>0.0</td>\n",
       "      <td>8-7</td>\n",
       "      <td>Akebono</td>\n",
       "      <td>1</td>\n",
       "      <td>199101</td>\n",
       "      <td>204.0</td>\n",
       "      <td>185.0</td>\n",
       "      <td>False</td>\n",
       "      <td>True</td>\n",
       "      <td>...</td>\n",
       "      <td>12</td>\n",
       "      <td>18</td>\n",
       "      <td>0</td>\n",
       "      <td>6</td>\n",
       "      <td>9</td>\n",
       "      <td>30</td>\n",
       "      <td>0.600000</td>\n",
       "      <td>1</td>\n",
       "      <td>1029.353289</td>\n",
       "      <td>0.396911</td>\n",
       "    </tr>\n",
       "    <tr>\n",
       "      <th>3</th>\n",
       "      <td>K</td>\n",
       "      <td>1.0</td>\n",
       "      <td>8-7</td>\n",
       "      <td>Akebono</td>\n",
       "      <td>1</td>\n",
       "      <td>199103</td>\n",
       "      <td>204.0</td>\n",
       "      <td>185.0</td>\n",
       "      <td>False</td>\n",
       "      <td>True</td>\n",
       "      <td>...</td>\n",
       "      <td>19</td>\n",
       "      <td>26</td>\n",
       "      <td>0</td>\n",
       "      <td>7</td>\n",
       "      <td>8</td>\n",
       "      <td>45</td>\n",
       "      <td>0.577778</td>\n",
       "      <td>1</td>\n",
       "      <td>1036.304870</td>\n",
       "      <td>0.264644</td>\n",
       "    </tr>\n",
       "    <tr>\n",
       "      <th>4</th>\n",
       "      <td>S</td>\n",
       "      <td>1.0</td>\n",
       "      <td>7-8</td>\n",
       "      <td>Akebono</td>\n",
       "      <td>1</td>\n",
       "      <td>199105</td>\n",
       "      <td>204.0</td>\n",
       "      <td>194.0</td>\n",
       "      <td>False</td>\n",
       "      <td>False</td>\n",
       "      <td>...</td>\n",
       "      <td>26</td>\n",
       "      <td>34</td>\n",
       "      <td>0</td>\n",
       "      <td>7</td>\n",
       "      <td>8</td>\n",
       "      <td>60</td>\n",
       "      <td>0.566667</td>\n",
       "      <td>1</td>\n",
       "      <td>1056.943117</td>\n",
       "      <td>0.682833</td>\n",
       "    </tr>\n",
       "  </tbody>\n",
       "</table>\n",
       "<p>5 rows × 28 columns</p>\n",
       "</div>"
      ],
      "text/plain": [
       "  rank  rank_debut score     name  rikishi_id tournament  height  weight  \\\n",
       "0  M14         1.0   9-6  Akebono           1     199009   204.0   185.0   \n",
       "1   M7         0.0   9-6  Akebono           1     199011   204.0   185.0   \n",
       "2   M1         0.0   8-7  Akebono           1     199101   204.0   185.0   \n",
       "3    K         1.0   8-7  Akebono           1     199103   204.0   185.0   \n",
       "4    S         1.0   7-8  Akebono           1     199105   204.0   194.0   \n",
       "\n",
       "   kanto  shukun       ...        career_losses  career_wins  last_absent  \\\n",
       "0  False   False       ...                    0            0            0   \n",
       "1   True   False       ...                    6            9            0   \n",
       "2  False    True       ...                   12           18            0   \n",
       "3  False    True       ...                   19           26            0   \n",
       "4  False   False       ...                   26           34            0   \n",
       "\n",
       "   last_losses  last_wins  total_exp  win_per_bout  day          elo  \\\n",
       "0            0          0          0      0.000000    1  1000.000000   \n",
       "1            6          9         15      0.600000    1  1013.908066   \n",
       "2            6          9         30      0.600000    1  1029.353289   \n",
       "3            7          8         45      0.577778    1  1036.304870   \n",
       "4            7          8         60      0.566667    1  1056.943117   \n",
       "\n",
       "   elo_likelihood  \n",
       "0        0.581934  \n",
       "1        0.579074  \n",
       "2        0.396911  \n",
       "3        0.264644  \n",
       "4        0.682833  \n",
       "\n",
       "[5 rows x 28 columns]"
      ]
     },
     "execution_count": 35,
     "metadata": {},
     "output_type": "execute_result"
    }
   ],
   "source": [
    "banzuke_df = pd.read_pickle(\"banzuke_data.pkl\")\n",
    "banzuke_df.head()"
   ]
  },
  {
   "cell_type": "code",
   "execution_count": 34,
   "metadata": {},
   "outputs": [
    {
     "data": {
      "application/vnd.jupyter.widget-view+json": {
       "model_id": "",
       "version_major": 2,
       "version_minor": 0
      },
      "text/plain": [
       "FigureCanvasNbAgg()"
      ]
     },
     "metadata": {},
     "output_type": "display_data"
    },
    {
     "name": "stderr",
     "output_type": "stream",
     "text": [
      "/opt/conda/lib/python3.6/site-packages/matplotlib/patches.py:83: UserWarning: Setting the 'color' property will overridethe edgecolor or facecolor properties. \n",
      "  warnings.warn(\"Setting the 'color' property will override\"\n",
      "/opt/conda/lib/python3.6/site-packages/matplotlib/patches.py:83: UserWarning: Setting the 'color' property will overridethe edgecolor or facecolor properties. \n",
      "  warnings.warn(\"Setting the 'color' property will override\"\n",
      "/opt/conda/lib/python3.6/site-packages/matplotlib/patches.py:83: UserWarning: Setting the 'color' property will overridethe edgecolor or facecolor properties. \n",
      "  warnings.warn(\"Setting the 'color' property will override\"\n"
     ]
    }
   ],
   "source": [
    "plt.figure(figsize=(8, 5))\n",
    "ax = plt.subplot()\n",
    "\n",
    "rikishi = bout_df.loc[bout_df['name'] == 'Kisenosato']\n",
    "\n",
    "def make_record_table(rikishi):\n",
    "    rikishi = rikishi.drop_duplicates(['tournament', 'day'])\n",
    "    record = rikishi.pivot(index='tournament', columns='day', values='result')\n",
    "    record.fillna(-1, inplace=True)\n",
    "    return record\n",
    "\n",
    "def plot_rikishi_record(rikishi, ax, index=-1):\n",
    "    record = make_record_table(rikishi)\n",
    "    record = record.tail(index)\n",
    "\n",
    "    ax.set_xticklabels(record.columns)\n",
    "    ax.set_yticklabels(record.index)\n",
    "\n",
    "    ax.set_xticks(np.arange(len(record.columns)))\n",
    "    ax.set_yticks(np.arange(len(record.index)))\n",
    "\n",
    "    ax.set_xticks(np.arange(-.5,len(record.columns)), minor=True)\n",
    "    ax.set_yticks(np.arange(-.5, len(record.index)), minor=True)\n",
    "\n",
    "    ax.set_xlabel('Day')\n",
    "    ax.set_ylabel('Basho')\n",
    "\n",
    "    ax.grid(False)\n",
    "    ax.grid(which='minor', color='w', linestyle='-', linewidth=2)\n",
    "    im = ax.imshow(record.values, cmap='Pastel1_r')\n",
    "    \n",
    "    import matplotlib.patches as mpatches\n",
    "\n",
    "    values = np.unique(record.values.ravel())\n",
    "    labels = values.copy().astype(str)\n",
    "    labels[labels == '0.0'] = 'Loss'\n",
    "    labels[labels == '-1.0'] = 'Absent'\n",
    "    labels[labels == '1.0'] = 'Win'\n",
    "    colors = [ im.cmap(im.norm(value)) for value in values]\n",
    "\n",
    "    patches = [ mpatches.Patch(color=colors[i], label=\"{}\".format(labels[i]) , edgecolor='b' ) for i in range(len(values)) ]\n",
    "\n",
    "    ax.legend(handles=patches, bbox_to_anchor=(1.05, 1),loc=2, borderaxespad=0.5, frameon=True)\n",
    "\n",
    "plot_rikishi_record(rikishi, ax, index=10)"
   ]
  },
  {
   "cell_type": "code",
   "execution_count": 282,
   "metadata": {},
   "outputs": [
    {
     "name": "stderr",
     "output_type": "stream",
     "text": [
      "/Users/samuel/miniconda3/envs/sumo/lib/python3.6/site-packages/matplotlib/pyplot.py:522: RuntimeWarning: More than 20 figures have been opened. Figures created through the pyplot interface (`matplotlib.pyplot.figure`) are retained until explicitly closed and may consume too much memory. (To control this warning, see the rcParam `figure.max_open_warning`).\n",
      "  max_open_warning, RuntimeWarning)\n"
     ]
    },
    {
     "data": {
      "application/vnd.jupyter.widget-view+json": {
       "model_id": "",
       "version_major": 2,
       "version_minor": 0
      },
      "text/plain": [
       "FigureCanvasNbAgg()"
      ]
     },
     "metadata": {},
     "output_type": "display_data"
    },
    {
     "name": "stdout",
     "output_type": "stream",
     "text": [
      "                0     1     2     3     4  group\n",
      "Chiyonofuji  13.0  12.0  13.0   2.0   1.0      1\n",
      "Hokutoumi    12.0  13.0   8.0   2.0   0.0      1\n",
      "Onokuni       8.0  10.0  10.0  12.0   2.0      0\n",
      "Asahifuji    10.0  13.0   7.0   2.0   0.0      1\n",
      "Akebono      12.0  13.0  13.0  13.0  14.0      2\n",
      "Takanohana   15.0  12.0  13.0  12.0   4.0      0\n",
      "Musashimaru  10.0  13.0   4.0   2.0   3.0      1\n",
      "Wakanohana   13.0   5.0   3.0   7.0   2.0      1\n",
      "Asashoryu    12.0  10.0  15.0  11.0  13.0      2\n",
      "Harumafuji   10.0  10.0  11.0  12.0   0.0      0\n",
      "[1]\n"
     ]
    },
    {
     "data": {
      "text/plain": [
       "[<matplotlib.axis.XTick at 0x17c1a4be0>,\n",
       " <matplotlib.axis.XTick at 0x17c1a4550>,\n",
       " <matplotlib.axis.XTick at 0x17c1a4438>,\n",
       " <matplotlib.axis.XTick at 0x17c276e10>,\n",
       " <matplotlib.axis.XTick at 0x17c2762e8>]"
      ]
     },
     "execution_count": 282,
     "metadata": {},
     "output_type": "execute_result"
    }
   ],
   "source": [
    "yokozuna_names = bout_df.loc[bout_df['rank'] == 'Y'].name.unique()\n",
    "yokozuna_names = filter(lambda n: n not in ['Hakuho', 'Kisenosato', 'Kakuryu'], yokozuna_names)\n",
    "yokozuna_bouts = [bout_df.loc[bout_df['name'] == name] for name in yokozuna_names]\n",
    "data = map(lambda x: make_record_table(x).tail(5).replace(-1, 0).sum(axis=1).reset_index(drop=True), yokozuna_bouts)\n",
    "data = pd.concat(data, axis=1).T\n",
    "\n",
    "yokozuna_names = bout_df.loc[bout_df['rank'] == 'Y'].name.unique()\n",
    "yokozuna_names = list(filter(lambda n: n not in ['Hakuho', 'Kisenosato', 'Kakuryu'], yokozuna_names))\n",
    "data.index = yokozuna_names\n",
    "\n",
    "\n",
    "from sklearn.cluster import KMeans\n",
    "from sklearn.decomposition import PCA\n",
    "\n",
    "kmeans = KMeans(n_clusters=3)\n",
    "kmeans.fit(data.values)\n",
    "\n",
    "\n",
    "plt.figure()\n",
    "ax = plt.subplot()\n",
    "\n",
    "\n",
    "for i, row in enumerate(data.values):\n",
    "    cd = {0: 'red', 1: 'blue', 2: 'green'}\n",
    "    c = cd[kmeans.labels_[i]]\n",
    "    ax.plot(np.arange(5)+1, row, c=c)    \n",
    "\n",
    "data['group'] = kmeans.labels_\n",
    "print (data)\n",
    "    \n",
    "kinesato_bouts = [bout_df.loc[bout_df['name'] == \"Kisenosato\"]]\n",
    "kinesato_data = map(lambda x: make_record_table(x).tail(5).replace(-1, 0).sum(axis=1).reset_index(drop=True), kinesato_bouts)\n",
    "kinesato_data = np.array(list(kinesato_data))\n",
    "\n",
    "print(kmeans.predict(kinesato_data))\n",
    "\n",
    "ax.scatter(np.arange(5)+1, kinesato_data, c='lightblue')\n",
    "ax.set_xticks(np.arange(5)+1)"
   ]
  },
  {
   "cell_type": "code",
   "execution_count": 50,
   "metadata": {},
   "outputs": [
    {
     "name": "stdout",
     "output_type": "stream",
     "text": [
      "Index(['rank', 'rank_debut', 'score', 'name', 'rikishi_id', 'tournament',\n",
      "       'height', 'weight', 'kanto', 'shukun', 'jun_yusho', 'kinboshi',\n",
      "       'rank_ordered', 'wins', 'loss', 'absent', 'BMI', 'career_absent',\n",
      "       'career_losses', 'career_wins', 'last_absent', 'last_losses',\n",
      "       'last_wins', 'total_exp', 'win_per_bout', 'day', 'elo',\n",
      "       'elo_likelihood'],\n",
      "      dtype='object')\n"
     ]
    },
    {
     "data": {
      "application/vnd.jupyter.widget-view+json": {
       "model_id": "",
       "version_major": 2,
       "version_minor": 0
      },
      "text/plain": [
       "FigureCanvasNbAgg()"
      ]
     },
     "metadata": {},
     "output_type": "display_data"
    },
    {
     "data": {
      "text/plain": [
       "<seaborn.axisgrid.PairGrid at 0x7f79334b6080>"
      ]
     },
     "execution_count": 50,
     "metadata": {},
     "output_type": "execute_result"
    }
   ],
   "source": [
    "print(banzuke_df.columns)\n",
    "subset = banzuke_df[['elo', 'wins', 'rank_ordered']]\n",
    "\n",
    "import seaborn as sns\n",
    "sns.pairplot(subset, diag_kind='kde', hue='wins')"
   ]
  }
 ],
 "metadata": {
  "kernelspec": {
   "display_name": "Python 3",
   "language": "python",
   "name": "python3"
  },
  "language_info": {
   "codemirror_mode": {
    "name": "ipython",
    "version": 3
   },
   "file_extension": ".py",
   "mimetype": "text/x-python",
   "name": "python",
   "nbconvert_exporter": "python",
   "pygments_lexer": "ipython3",
   "version": "3.6.3"
  }
 },
 "nbformat": 4,
 "nbformat_minor": 2
}
